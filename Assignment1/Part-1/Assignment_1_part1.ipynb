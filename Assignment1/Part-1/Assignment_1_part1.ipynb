{
 "cells": [
  {
   "cell_type": "markdown",
   "metadata": {},
   "source": [
    "###### Sai deepthi(S20180010087)\n",
    "##### Sowmya(S20180010187)\n",
    "##### Manjju shree(S20180010055)\n",
    "##### Swathi(S20180010172)"
   ]
  },
  {
   "cell_type": "code",
   "execution_count": 1,
   "metadata": {
    "id": "hnLDs1Qjk5go"
   },
   "outputs": [],
   "source": [
    "import random\n",
    "import numpy as np\n",
    "from data_process import get_CIFAR10_data, get_MUSHROOM_data\n",
    "from scipy.spatial import distance\n",
    "#from models import Perceptron, SVM, Softmax, Logistic\n",
    "from models import SVM, Softmax\n",
    "%matplotlib inline"
   ]
  },
  {
   "cell_type": "markdown",
   "metadata": {
    "id": "nKa3aWguk5hF"
   },
   "source": [
    "# Loading CIFAR-10"
   ]
  },
  {
   "cell_type": "markdown",
   "metadata": {
    "id": "rKjr6ySOk5hH"
   },
   "source": [
    "In the following cells we determine the number of images for each split and load the images.\n",
    "<br /> \n",
    "TRAIN_IMAGES + VAL_IMAGES = (0, 50000]\n",
    ", TEST_IMAGES = 10000"
   ]
  },
  {
   "cell_type": "code",
   "execution_count": 2,
   "metadata": {
    "id": "Y38ztIRbk5hI"
   },
   "outputs": [],
   "source": [
    "# You can change these numbers for experimentation\n",
    "# For submission we will use the default values \n",
    "TRAIN_IMAGES = 40000\n",
    "VAL_IMAGES = 10000"
   ]
  },
  {
   "cell_type": "code",
   "execution_count": 3,
   "metadata": {
    "id": "J7vKnzYVk5hJ"
   },
   "outputs": [],
   "source": [
    "data = get_CIFAR10_data(TRAIN_IMAGES, VAL_IMAGES)\n",
    "X_train_CIFAR, y_train_CIFAR = data['X_train'], data['y_train']\n",
    "X_val_CIFAR, y_val_CIFAR = data['X_val'], data['y_val']\n",
    "X_test_CIFAR, y_test_CIFAR = data['X_test'], data['y_test']\n",
    "n_class_CIFAR = len(np.unique(y_test_CIFAR))"
   ]
  },
  {
   "cell_type": "markdown",
   "metadata": {
    "id": "h8pQ9apak5hJ"
   },
   "source": [
    "Convert the sets of images from dimensions of **(N, 3, 32, 32) -> (N, 3072)** where N is the number of images so that each **3x32x32** image is represented by a single vector."
   ]
  },
  {
   "cell_type": "code",
   "execution_count": 4,
   "metadata": {
    "id": "1W__jV7mk5hK"
   },
   "outputs": [],
   "source": [
    "X_train_CIFAR = np.reshape(X_train_CIFAR, (X_train_CIFAR.shape[0], -1))\n",
    "X_val_CIFAR = np.reshape(X_val_CIFAR, (X_val_CIFAR.shape[0], -1))\n",
    "X_test_CIFAR = np.reshape(X_test_CIFAR, (X_test_CIFAR.shape[0], -1))"
   ]
  },
  {
   "cell_type": "markdown",
   "metadata": {
    "id": "zDTU_J2Fk5hK"
   },
   "source": [
    "# Loading Mushroom"
   ]
  },
  {
   "cell_type": "markdown",
   "metadata": {
    "id": "RfFsQz-rk5hL"
   },
   "source": [
    "In the following cells we determine the splitting of the mushroom dataset.\n",
    "<br /> TRAINING + VALIDATION = 0.8, TESTING = 0.2"
   ]
  },
  {
   "cell_type": "code",
   "execution_count": 5,
   "metadata": {
    "id": "WrtQP5rmk5hL"
   },
   "outputs": [],
   "source": [
    "# TRAINING = 0.6 indicates 60% of the data is used as the training dataset.\n",
    "VALIDATION = 0.2"
   ]
  },
  {
   "cell_type": "code",
   "execution_count": 6,
   "metadata": {
    "colab": {
     "base_uri": "https://localhost:8080/"
    },
    "id": "CR9SLJmGk5hM",
    "outputId": "c000eb0f-a5bf-4121-c9de-016e676507f8"
   },
   "outputs": [
    {
     "name": "stdout",
     "output_type": "stream",
     "text": [
      "Number of train samples:  4874\n",
      "Number of val samples:  1625\n",
      "Number of test samples:  1625\n"
     ]
    }
   ],
   "source": [
    "data = get_MUSHROOM_data(VALIDATION)\n",
    "X_train_MR, y_train_MR = data['X_train'], data['y_train']\n",
    "X_val_MR, y_val_MR = data['X_val'], data['y_val']\n",
    "X_test_MR, y_test_MR = data['X_test'], data['y_test']\n",
    "n_class_MR = len(np.unique(y_test_MR))\n",
    "\n",
    "print(\"Number of train samples: \", X_train_MR.shape[0])\n",
    "print(\"Number of val samples: \", X_val_MR.shape[0])\n",
    "print(\"Number of test samples: \", X_test_MR.shape[0])"
   ]
  },
  {
   "cell_type": "markdown",
   "metadata": {
    "id": "hQ6yT5JWk5hN"
   },
   "source": [
    "### Get Accuracy"
   ]
  },
  {
   "cell_type": "markdown",
   "metadata": {
    "id": "RFYEceHAk5hN"
   },
   "source": [
    "This function computes how well your model performs using accuracy as a metric."
   ]
  },
  {
   "cell_type": "code",
   "execution_count": 7,
   "metadata": {
    "id": "5qEcgIejk5hN"
   },
   "outputs": [],
   "source": [
    "def get_acc(pred, y_test):\n",
    "    return np.sum(y_test==pred)/len(y_test)*100"
   ]
  },
  {
   "cell_type": "markdown",
   "metadata": {
    "id": "t7Rs_Tmuk5hU"
   },
   "source": [
    "# Support Vector Machines (with SGD)"
   ]
  },
  {
   "cell_type": "markdown",
   "metadata": {
    "id": "n03H1uHBk5hU"
   },
   "source": [
    "First, you will implement a \"soft margin\" SVM. In this formulation you will maximize the margin between positive and negative training examples and penalize margin violations using a hinge loss.\n",
    "\n",
    "We will optimize the SVM loss using SGD. This means you must compute the loss function with respect to model weights. You will use this gradient to update the model weights.\n",
    "\n",
    "SVM optimized with SGD has 3 hyperparameters that you can experiment with :\n",
    "- **Learning rate** - similar to as defined above in Perceptron, this parameter scales by how much the weights are changed according to the calculated gradient update. \n",
    "- **Epochs** - similar to as defined above in Perceptron.\n",
    "- **Regularization constant** - Hyperparameter to determine the strength of regularization. In this case it is a coefficient on the term which maximizes the margin. You could try different values. The default value is set to 0.05."
   ]
  },
  {
   "cell_type": "markdown",
   "metadata": {
    "id": "V52Dp--Hk5hV"
   },
   "source": [
    "You will implement the SVM using SGD in the **models/SVM.py**\n",
    "\n",
    "The following code: \n",
    "- Creates an instance of the SVM classifier class \n",
    "- The train function of the SVM class is trained on the training data\n",
    "- We use the predict function to find the training accuracy as well as the testing accuracy"
   ]
  },
  {
   "cell_type": "markdown",
   "metadata": {
    "id": "BgKTHbhQk5hW"
   },
   "source": [
    "## Train SVM on CIFAR"
   ]
  },
  {
   "cell_type": "code",
   "execution_count": 37,
   "metadata": {
    "id": "7mWwjaG1k5hW"
   },
   "outputs": [],
   "source": [
    "lr = 0.01\n",
    "n_epochs = 500\n",
    "reg_const = 0.05\n",
    "\n",
    "svm_CIFAR = SVM(n_class_CIFAR, lr, n_epochs, reg_const)\n",
    "svm_CIFAR.train(X_train_CIFAR, y_train_CIFAR)"
   ]
  },
  {
   "cell_type": "code",
   "execution_count": 38,
   "metadata": {
    "colab": {
     "base_uri": "https://localhost:8080/"
    },
    "id": "b2mXPO1Uk5hW",
    "outputId": "350682c5-1189-4aee-cf38-c7352d2dd61b"
   },
   "outputs": [
    {
     "name": "stdout",
     "output_type": "stream",
     "text": [
      "The training accuracy is given by: 21.625000\n"
     ]
    }
   ],
   "source": [
    "pred_svm = svm_CIFAR.predict(X_train_CIFAR)\n",
    "print('The training accuracy is given by: %f' % (get_acc(pred_svm, y_train_CIFAR)))"
   ]
  },
  {
   "cell_type": "markdown",
   "metadata": {
    "id": "KOASzOOak5hW"
   },
   "source": [
    "### Validate SVM on CIFAR"
   ]
  },
  {
   "cell_type": "code",
   "execution_count": 39,
   "metadata": {
    "colab": {
     "base_uri": "https://localhost:8080/"
    },
    "id": "qKiIBnzTk5hX",
    "outputId": "08484046-4907-4d9d-b699-c3ffb0962ca6"
   },
   "outputs": [
    {
     "name": "stdout",
     "output_type": "stream",
     "text": [
      "The validation accuracy is given by: 21.370000\n"
     ]
    }
   ],
   "source": [
    "pred_svm = svm_CIFAR.predict(X_val_CIFAR)\n",
    "print('The validation accuracy is given by: %f' % (get_acc(pred_svm, y_val_CIFAR)))"
   ]
  },
  {
   "cell_type": "markdown",
   "metadata": {
    "id": "Tm3DeY1rk5hX"
   },
   "source": [
    "### Test SVM on CIFAR"
   ]
  },
  {
   "cell_type": "code",
   "execution_count": 40,
   "metadata": {
    "colab": {
     "base_uri": "https://localhost:8080/"
    },
    "id": "mGOKQIs-k5hX",
    "outputId": "8a905df4-5199-4f85-99b9-b39a734bf991"
   },
   "outputs": [
    {
     "name": "stdout",
     "output_type": "stream",
     "text": [
      "The testing accuracy is given by: 21.700000\n"
     ]
    }
   ],
   "source": [
    "pred_svm = svm_CIFAR.predict(X_test_CIFAR)\n",
    "print('The testing accuracy is given by: %f' % (get_acc(pred_svm, y_test_CIFAR)))"
   ]
  },
  {
   "cell_type": "markdown",
   "metadata": {
    "id": "oyIM8cs8k5hY"
   },
   "source": [
    "## Train SVM on Mushroom"
   ]
  },
  {
   "cell_type": "code",
   "execution_count": 12,
   "metadata": {
    "id": "QMIjxD8Dk5hY"
   },
   "outputs": [],
   "source": [
    "lr = 0.01\n",
    "n_epochs = 100\n",
    "reg_const = 0.05\n",
    "\n",
    "svm_MR = SVM(n_class_MR, lr, n_epochs, reg_const)\n",
    "svm_MR.train(X_train_MR, y_train_MR)"
   ]
  },
  {
   "cell_type": "code",
   "execution_count": 13,
   "metadata": {
    "colab": {
     "base_uri": "https://localhost:8080/"
    },
    "id": "qiG_ksW8k5hY",
    "outputId": "27a5937a-470c-44cc-f211-901d1e8648f4"
   },
   "outputs": [
    {
     "name": "stdout",
     "output_type": "stream",
     "text": [
      "The training accuracy is given by: 79.154698\n"
     ]
    }
   ],
   "source": [
    "pred_svm = svm_MR.predict(X_train_MR)\n",
    "print('The training accuracy is given by: %f' % (get_acc(pred_svm, y_train_MR)))"
   ]
  },
  {
   "cell_type": "markdown",
   "metadata": {
    "id": "Qm2vYxt3k5hZ"
   },
   "source": [
    "### Validate SVM on Mushroom"
   ]
  },
  {
   "cell_type": "code",
   "execution_count": 14,
   "metadata": {
    "colab": {
     "base_uri": "https://localhost:8080/"
    },
    "id": "XhAqOUOOk5hZ",
    "outputId": "9b79c494-ed3d-4bdc-a8b0-8832b73c9f39"
   },
   "outputs": [
    {
     "name": "stdout",
     "output_type": "stream",
     "text": [
      "The validation accuracy is given by: 77.046154\n"
     ]
    }
   ],
   "source": [
    "pred_svm = svm_MR.predict(X_val_MR)\n",
    "print('The validation accuracy is given by: %f' % (get_acc(pred_svm, y_val_MR)))"
   ]
  },
  {
   "cell_type": "markdown",
   "metadata": {
    "id": "VLVybR1nk5hZ"
   },
   "source": [
    "## Test SVM on Mushroom"
   ]
  },
  {
   "cell_type": "code",
   "execution_count": 15,
   "metadata": {
    "colab": {
     "base_uri": "https://localhost:8080/"
    },
    "id": "PnhjeUg4k5hZ",
    "outputId": "16a05d13-f210-4eab-e945-a5e8df02ac54"
   },
   "outputs": [
    {
     "name": "stdout",
     "output_type": "stream",
     "text": [
      "The testing accuracy is given by: 79.384615\n"
     ]
    }
   ],
   "source": [
    "pred_svm = svm_MR.predict(X_test_MR)\n",
    "print('The testing accuracy is given by: %f' % (get_acc(pred_svm, y_test_MR)))"
   ]
  },
  {
   "cell_type": "markdown",
   "metadata": {
    "id": "39BwwwJ2k5ha"
   },
   "source": [
    "# Softmax Classifier (with SGD)"
   ]
  },
  {
   "cell_type": "markdown",
   "metadata": {
    "collapsed": true,
    "id": "G9LY2K_Ek5ha"
   },
   "source": [
    "Next, you will train a Softmax classifier. This classifier consists of a linear function of the input data followed by a softmax function which outputs a vector of dimension C (number of classes) for each data point. Each entry of the softmax output vector corresponds to a confidence in one of the C classes, and like a probability distribution, the entries of the output vector sum to 1. We use a cross-entropy loss on this sotmax output to train the model. \n",
    "\n",
    "Check the following link as an additional resource on softmax classification: http://cs231n.github.io/linear-classify/#softmax\n",
    "\n",
    "Once again we will train the classifier with SGD. This means you need to compute the gradients of the softmax cross-entropy loss function according to the weights and update the weights using this gradient. Check the following link to help with implementing the gradient updates: https://deepnotes.io/softmax-crossentropy"
   ]
  },
  {
   "cell_type": "markdown",
   "metadata": {
    "id": "eXF5m_B4k5ha"
   },
   "source": [
    "The softmax classifier has 3 hyperparameters that you can experiment with :\n",
    "- **Learning rate** - As above, this controls how much the model weights are updated with respect to their gradient.\n",
    "- **Number of Epochs** - As described for perceptron.\n",
    "- **Regularization constant** - Hyperparameter to determine the strength of regularization. In this case, we minimize the L2 norm of the model weights as regularization, so the regularization constant is a coefficient on the L2 norm in the combined cross-entropy and regularization objective."
   ]
  },
  {
   "cell_type": "markdown",
   "metadata": {
    "id": "IwApQ5UWk5ha"
   },
   "source": [
    "You will implement a softmax classifier using SGD in the **models/Softmax.py**\n",
    "\n",
    "The following code: \n",
    "- Creates an instance of the Softmax classifier class \n",
    "- The train function of the Softmax class is trained on the training data\n",
    "- We use the predict function to find the training accuracy as well as the testing accuracy"
   ]
  },
  {
   "cell_type": "markdown",
   "metadata": {
    "id": "Q6ODyeevk5hb"
   },
   "source": [
    "## Train Softmax on CIFAR"
   ]
  },
  {
   "cell_type": "code",
   "execution_count": 57,
   "metadata": {
    "id": "za51Kukzk5hb"
   },
   "outputs": [],
   "source": [
    "lr = 0.001\n",
    "n_epochs = 500\n",
    "reg_const = 0.05\n",
    "\n",
    "softmax_CIFAR = Softmax(n_class_CIFAR, lr, n_epochs, reg_const)\n",
    "softmax_CIFAR.train(X_train_CIFAR, y_train_CIFAR)"
   ]
  },
  {
   "cell_type": "code",
   "execution_count": 50,
   "metadata": {
    "colab": {
     "base_uri": "https://localhost:8080/"
    },
    "id": "RkRlZEvmk5hb",
    "outputId": "500cba53-cbde-46c4-bd1c-43d0b56f617c"
   },
   "outputs": [
    {
     "name": "stdout",
     "output_type": "stream",
     "text": [
      "The training accuracy is given by: 9.965000\n"
     ]
    }
   ],
   "source": [
    "pred_softmax = softmax_CIFAR.predict(X_train_CIFAR)\n",
    "print('The training accuracy is given by: %f' % (get_acc(pred_softmax, y_train_CIFAR)))"
   ]
  },
  {
   "cell_type": "markdown",
   "metadata": {
    "id": "C5T1NWtnk5hc"
   },
   "source": [
    "### Validate Softmax on CIFAR"
   ]
  },
  {
   "cell_type": "code",
   "execution_count": 51,
   "metadata": {
    "colab": {
     "base_uri": "https://localhost:8080/"
    },
    "id": "B1YWo9Ctk5hc",
    "outputId": "8a030334-612a-4c18-db37-b09ff4a7b7ee"
   },
   "outputs": [
    {
     "name": "stdout",
     "output_type": "stream",
     "text": [
      "The validation accuracy is given by: 10.140000\n"
     ]
    }
   ],
   "source": [
    "pred_softmax = softmax_CIFAR.predict(X_val_CIFAR)\n",
    "print('The validation accuracy is given by: %f' % (get_acc(pred_softmax, y_val_CIFAR)))"
   ]
  },
  {
   "cell_type": "markdown",
   "metadata": {
    "id": "Z-KGCF-Tk5hc"
   },
   "source": [
    "### Testing Softmax on CIFAR"
   ]
  },
  {
   "cell_type": "code",
   "execution_count": 52,
   "metadata": {
    "colab": {
     "base_uri": "https://localhost:8080/"
    },
    "id": "NNEH_j2uk5hc",
    "outputId": "d1fbf82f-1970-4f09-d9f4-dd4eb25bf012"
   },
   "outputs": [
    {
     "name": "stdout",
     "output_type": "stream",
     "text": [
      "The testing accuracy is given by: 10.000000\n"
     ]
    }
   ],
   "source": [
    "pred_softmax = softmax_CIFAR.predict(X_test_CIFAR)\n",
    "print('The testing accuracy is given by: %f' % (get_acc(pred_softmax, y_test_CIFAR)))"
   ]
  },
  {
   "cell_type": "markdown",
   "metadata": {
    "id": "tQ2mwGnvk5hd"
   },
   "source": [
    "## Train Softmax on Mushroom"
   ]
  },
  {
   "cell_type": "code",
   "execution_count": 53,
   "metadata": {
    "id": "LH29MKCuk5hd"
   },
   "outputs": [
    {
     "data": {
      "text/plain": [
       "[0.6838604381027243,\n",
       " 1.2552586304855704,\n",
       " 0.8009097033511252,\n",
       " 1.1641296533016463,\n",
       " 1.6050499984957556,\n",
       " 0.6030587799283047,\n",
       " 0.7714372091274135,\n",
       " 1.785979598764577,\n",
       " 1.208621874964911,\n",
       " 0.30419280642825236,\n",
       " 0.3032705499411603,\n",
       " 0.7165906376658655,\n",
       " 0.961430916439314,\n",
       " 1.2331360657203951,\n",
       " 0.2591570707222781,\n",
       " 0.5880439724807864,\n",
       " 0.5287377653600317,\n",
       " 0.15842831040616398,\n",
       " 0.3394432806691065,\n",
       " 1.4439649156048124,\n",
       " 1.1303505658913227,\n",
       " 2.334386773188463,\n",
       " 0.8158220185761286,\n",
       " 0.7051722705110395,\n",
       " 1.1237820074856395,\n",
       " 0.27174862642520875,\n",
       " 0.5724824884996061,\n",
       " 0.4643843788488118,\n",
       " 1.2386185135054977,\n",
       " 3.6384477534196336,\n",
       " 0.5513038049838774,\n",
       " 0.1494093128977751,\n",
       " 0.06388188173343909,\n",
       " 1.353632939280057,\n",
       " 2.551437342416409,\n",
       " 1.7221338117863454,\n",
       " 0.804202419389961,\n",
       " 0.9954411263688163,\n",
       " 1.9157389704538719,\n",
       " 0.14971887529967667,\n",
       " 0.8347386365539177,\n",
       " 1.9297096710566155,\n",
       " 0.689534240098415,\n",
       " 0.12618029862037136,\n",
       " 0.5327036518820618,\n",
       " 0.5768939577108803,\n",
       " 1.00796361577615,\n",
       " 1.7861898643069745,\n",
       " 1.281234701883496,\n",
       " 0.6438853729691684,\n",
       " 0.510201249212707,\n",
       " 0.39801921888295033,\n",
       " 0.15621502605013798,\n",
       " 0.26700023918668986,\n",
       " 0.4147078013066047,\n",
       " 1.3956438111420502,\n",
       " 0.8633086567687456,\n",
       " 1.3493510827819306,\n",
       " 1.4530775117750268,\n",
       " 1.9332029527511487,\n",
       " 0.7343050236020299,\n",
       " 1.3903785618542512,\n",
       " 0.3273405039046597,\n",
       " 0.14592419038232574,\n",
       " 0.6160662132663592,\n",
       " 0.4733838707017112,\n",
       " 0.4562375409829672,\n",
       " 0.4224470966240572,\n",
       " 0.13964557344176215,\n",
       " 1.1804221078497519,\n",
       " 3.0051335808777737,\n",
       " 3.627002646609739,\n",
       " 1.5579489537511055,\n",
       " 2.420347748346437,\n",
       " 0.23754428659745566,\n",
       " 1.275473574838841,\n",
       " 0.3241329799493483,\n",
       " 0.6863059725736527,\n",
       " 0.48380264806497403,\n",
       " 0.36720980134077813,\n",
       " 1.8173504685793647,\n",
       " 0.6652199869203661,\n",
       " 1.2419845301187091,\n",
       " 0.0962903732692319,\n",
       " 0.139464588409368,\n",
       " 0.12630864755341054,\n",
       " 0.9888855474966617,\n",
       " 0.9099995162889893,\n",
       " 0.18941376238559549,\n",
       " 0.7725350843572055,\n",
       " 0.5480304713103078,\n",
       " 1.9822738700675413,\n",
       " 0.3612602572154746,\n",
       " 0.5046417783485394,\n",
       " 0.5425421256767211,\n",
       " 0.21189629127349907,\n",
       " 0.5148465472938484,\n",
       " 0.7075431366308353,\n",
       " 0.4665924573649311,\n",
       " 0.18484160098976787]"
      ]
     },
     "execution_count": 53,
     "metadata": {},
     "output_type": "execute_result"
    }
   ],
   "source": [
    "lr = 0.001\n",
    "n_epochs =  100\n",
    "reg_const = 0.05\n",
    "\n",
    "softmax_MR = Softmax(n_class_MR, lr, n_epochs, reg_const)\n",
    "softmax_MR.train(X_train_MR, y_train_MR)"
   ]
  },
  {
   "cell_type": "code",
   "execution_count": 54,
   "metadata": {
    "colab": {
     "base_uri": "https://localhost:8080/"
    },
    "id": "hMTDV1sAk5hd",
    "outputId": "40fc4256-2ce2-4563-fe28-ebcdd02ee149"
   },
   "outputs": [
    {
     "name": "stdout",
     "output_type": "stream",
     "text": [
      "The training accuracy is given by: 83.709479\n"
     ]
    }
   ],
   "source": [
    "pred_softmax = softmax_MR.predict(X_train_MR)\n",
    "print('The training accuracy is given by: %f' % (get_acc(pred_softmax, y_train_MR)))"
   ]
  },
  {
   "cell_type": "markdown",
   "metadata": {
    "id": "PBYw1__vk5he"
   },
   "source": [
    "### Validate Softmax on Mushroom"
   ]
  },
  {
   "cell_type": "code",
   "execution_count": 55,
   "metadata": {
    "colab": {
     "base_uri": "https://localhost:8080/"
    },
    "id": "rQW0Lg42k5he",
    "outputId": "1a652772-6998-4dad-edd2-71e678be73a9"
   },
   "outputs": [
    {
     "name": "stdout",
     "output_type": "stream",
     "text": [
      "The validation accuracy is given by: 82.030769\n"
     ]
    }
   ],
   "source": [
    "pred_softmax = softmax_MR.predict(X_val_MR)\n",
    "print('The validation accuracy is given by: %f' % (get_acc(pred_softmax, y_val_MR)))"
   ]
  },
  {
   "cell_type": "markdown",
   "metadata": {
    "id": "DpnO80kXk5he"
   },
   "source": [
    "### Testing Softmax on Mushroom"
   ]
  },
  {
   "cell_type": "code",
   "execution_count": 56,
   "metadata": {
    "colab": {
     "base_uri": "https://localhost:8080/"
    },
    "id": "zqUZj6Evk5he",
    "outputId": "1eadba5e-da5d-44d7-8d2d-9cd5fc07d617"
   },
   "outputs": [
    {
     "name": "stdout",
     "output_type": "stream",
     "text": [
      "The testing accuracy is given by: 83.507692\n"
     ]
    }
   ],
   "source": [
    "pred_softmax = softmax_MR.predict(X_test_MR)\n",
    "print('The testing accuracy is given by: %f' % (get_acc(pred_softmax, y_test_MR)))"
   ]
  },
  {
   "cell_type": "code",
   "execution_count": null,
   "metadata": {
    "id": "lzwFxyaEImtf"
   },
   "outputs": [],
   "source": []
  },
  {
   "cell_type": "code",
   "execution_count": null,
   "metadata": {},
   "outputs": [],
   "source": []
  },
  {
   "cell_type": "code",
   "execution_count": null,
   "metadata": {},
   "outputs": [],
   "source": []
  }
 ],
 "metadata": {
  "colab": {
   "collapsed_sections": [],
   "name": "Assignment-1-part1.ipynb",
   "provenance": []
  },
  "kernelspec": {
   "display_name": "Python 3",
   "language": "python",
   "name": "python3"
  },
  "language_info": {
   "codemirror_mode": {
    "name": "ipython",
    "version": 3
   },
   "file_extension": ".py",
   "mimetype": "text/x-python",
   "name": "python",
   "nbconvert_exporter": "python",
   "pygments_lexer": "ipython3",
   "version": "3.8.3"
  }
 },
 "nbformat": 4,
 "nbformat_minor": 1
}
