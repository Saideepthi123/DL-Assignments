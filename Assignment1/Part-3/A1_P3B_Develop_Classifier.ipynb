{
  "nbformat": 4,
  "nbformat_minor": 0,
  "metadata": {
    "colab": {
      "name": "A1_P3B_Develop_Classifier.ipynb",
      "provenance": [],
      "toc_visible": true
    },
    "kernelspec": {
      "display_name": "Python 3",
      "language": "python",
      "name": "python3"
    },
    "language_info": {
      "codemirror_mode": {
        "name": "ipython",
        "version": 3
      },
      "file_extension": ".py",
      "mimetype": "text/x-python",
      "name": "python",
      "nbconvert_exporter": "python",
      "pygments_lexer": "ipython3",
      "version": "3.7.4"
    },
    "accelerator": "GPU"
  },
  "cells": [
    {
      "cell_type": "markdown",
      "metadata": {
        "id": "Bg1jZb6d0ur8"
      },
      "source": [
        "# Assignment 1 Part 3B: Developing Your Own Classifier"
      ]
    },
    {
      "cell_type": "code",
      "metadata": {
        "colab": {
          "base_uri": "https://localhost:8080/"
        },
        "id": "OrTKM8R_wjxy",
        "outputId": "77438bf5-0d8a-4871-b0ad-6983e6f4e916"
      },
      "source": [
        "from google.colab import drive\n",
        "drive.mount('/content/drive')"
      ],
      "execution_count": 1,
      "outputs": [
        {
          "output_type": "stream",
          "text": [
            "Drive already mounted at /content/drive; to attempt to forcibly remount, call drive.mount(\"/content/drive\", force_remount=True).\n"
          ],
          "name": "stdout"
        }
      ]
    },
    {
      "cell_type": "code",
      "metadata": {
        "colab": {
          "base_uri": "https://localhost:8080/",
          "height": 407
        },
        "id": "i6l-D9mPwuFw",
        "outputId": "e18e1a1d-cb2b-4ec0-c0fe-3473f3f9500b"
      },
      "source": [
        "!pip3 install torch==1.5 torchvision==0.6"
      ],
      "execution_count": 3,
      "outputs": [
        {
          "output_type": "stream",
          "text": [
            "Collecting torch==1.5\n",
            "\u001b[?25l  Downloading https://files.pythonhosted.org/packages/76/58/668ffb25215b3f8231a550a227be7f905f514859c70a65ca59d28f9b7f60/torch-1.5.0-cp37-cp37m-manylinux1_x86_64.whl (752.0MB)\n",
            "\u001b[K     |████████████████████████████████| 752.0MB 24kB/s \n",
            "\u001b[?25hCollecting torchvision==0.6\n",
            "\u001b[?25l  Downloading https://files.pythonhosted.org/packages/7b/ed/a894f274a7733d6492e438a5831a95b507c5ec777edf6d8c3b97574e08c4/torchvision-0.6.0-cp37-cp37m-manylinux1_x86_64.whl (6.6MB)\n",
            "\u001b[K     |████████████████████████████████| 6.6MB 45.0MB/s \n",
            "\u001b[?25hRequirement already satisfied: future in /usr/local/lib/python3.7/dist-packages (from torch==1.5) (0.16.0)\n",
            "Requirement already satisfied: numpy in /usr/local/lib/python3.7/dist-packages (from torch==1.5) (1.19.5)\n",
            "Requirement already satisfied: pillow>=4.1.1 in /usr/local/lib/python3.7/dist-packages (from torchvision==0.6) (7.0.0)\n",
            "Installing collected packages: torch, torchvision\n",
            "  Found existing installation: torch 1.7.1+cu101\n",
            "    Uninstalling torch-1.7.1+cu101:\n",
            "      Successfully uninstalled torch-1.7.1+cu101\n",
            "  Found existing installation: torchvision 0.8.2+cu101\n",
            "    Uninstalling torchvision-0.8.2+cu101:\n",
            "      Successfully uninstalled torchvision-0.8.2+cu101\n",
            "Successfully installed torch-1.5.0 torchvision-0.6.0\n"
          ],
          "name": "stdout"
        },
        {
          "output_type": "display_data",
          "data": {
            "application/vnd.colab-display-data+json": {
              "pip_warning": {
                "packages": [
                  "torch",
                  "torchvision"
                ]
              }
            }
          },
          "metadata": {
            "tags": []
          }
        }
      ]
    },
    {
      "cell_type": "code",
      "metadata": {
        "colab": {
          "base_uri": "https://localhost:8080/"
        },
        "id": "xIh0KTk-wycu",
        "outputId": "88c3f598-2da0-4163-b809-9058c00103c2"
      },
      "source": [
        "%cd '/content/drive/MyDrive/DL/assignment1-part3/assignment1-part3'"
      ],
      "execution_count": 2,
      "outputs": [
        {
          "output_type": "stream",
          "text": [
            "/content/drive/MyDrive/DL/assignment1-part3/assignment1-part3\n"
          ],
          "name": "stdout"
        }
      ]
    },
    {
      "cell_type": "code",
      "metadata": {
        "colab": {
          "base_uri": "https://localhost:8080/"
        },
        "id": "ldm9D9VkyJJI",
        "outputId": "efd9e44b-b3db-45ab-ce56-daf544cec2b3"
      },
      "source": [
        "!ls"
      ],
      "execution_count": 3,
      "outputs": [
        {
          "output_type": "stream",
          "text": [
            "A1_P3A_Introduction.ipynb\t download_data.sh   VOCdevkit\n",
            "A1_P3B_Develop_Classifier.ipynb  __pycache__\t    voc_simple_classifier.pth\n",
            "classifier.py\t\t\t voc_dataloader.py  VOCtrainval_06-Nov-2007.tar\n"
          ],
          "name": "stdout"
        }
      ]
    },
    {
      "cell_type": "code",
      "metadata": {
        "id": "T0A4msUE0usD"
      },
      "source": [
        "import os\n",
        "import numpy as np\n",
        "import torch\n",
        "import torch.nn as nn\n",
        "import torchvision\n",
        "\n",
        "from torchvision import transforms\n",
        "from sklearn.metrics import average_precision_score\n",
        "from PIL import Image, ImageDraw\n",
        "import matplotlib.pyplot as plt\n",
        "from classifier import SimpleClassifier, Classifier#, AlexNet\n",
        "from voc_dataloader import VocDataset, VOC_CLASSES\n",
        "\n",
        "%matplotlib inline\n",
        "%load_ext autoreload\n",
        "%autoreload 2"
      ],
      "execution_count": 4,
      "outputs": []
    },
    {
      "cell_type": "markdown",
      "metadata": {
        "id": "ws8berWM0usG"
      },
      "source": [
        "# Part 3B: Design your own network\n",
        "\n",
        "In this notebook, your task is to create and train your own model for multi-label classification on VOC Pascal.\n",
        "\n",
        "## What to do\n",
        "1. You will make change on network architecture in ```classifier.py```.\n",
        "2. You may also want to change other hyperparameters to assist your training to get a better performances. Hints will be given in the below instructions.\n",
        "\n",
        "## What to submit\n",
        "Check the submission template for details what to submit. "
      ]
    },
    {
      "cell_type": "code",
      "metadata": {
        "id": "qaMOkAzH0usI"
      },
      "source": [
        "def train_classifier(train_loader, classifier, criterion, optimizer):\n",
        "    classifier.train()\n",
        "    loss_ = 0.0\n",
        "    losses = []\n",
        "    for i, (images, labels, _) in enumerate(train_loader):\n",
        "        images, labels = images.to(device), labels.to(device)\n",
        "        optimizer.zero_grad()\n",
        "        logits = classifier(images)\n",
        "        loss = criterion(logits, labels)\n",
        "        loss.backward()\n",
        "        optimizer.step()\n",
        "        losses.append(loss)\n",
        "    return torch.stack(losses).mean().item()"
      ],
      "execution_count": 5,
      "outputs": []
    },
    {
      "cell_type": "code",
      "metadata": {
        "id": "7-nWXJ3t0usJ"
      },
      "source": [
        "def test_classifier(test_loader, classifier, criterion, print_ind_classes=True, print_total=True):\n",
        "    classifier.eval()\n",
        "    losses = []\n",
        "    with torch.no_grad():\n",
        "        y_true = np.zeros((0,21))\n",
        "        y_score = np.zeros((0,21))\n",
        "        for i, (images, labels, _) in enumerate(test_loader):\n",
        "            images, labels = images.to(device), labels.to(device)\n",
        "            logits = classifier(images)\n",
        "            y_true = np.concatenate((y_true, labels.cpu().numpy()), axis=0)\n",
        "            y_score = np.concatenate((y_score, logits.cpu().numpy()), axis=0)\n",
        "            loss = criterion(logits, labels)\n",
        "            losses.append(loss.item())\n",
        "        aps = []\n",
        "        # ignore first class which is background\n",
        "        for i in range(1, y_true.shape[1]):\n",
        "            ap = average_precision_score(y_true[:, i], y_score[:, i])\n",
        "            if print_ind_classes:\n",
        "                print('-------  Class: {:<12}     AP: {:>8.4f}  -------'.format(VOC_CLASSES[i], ap))\n",
        "            aps.append(ap)\n",
        "        \n",
        "        mAP = np.mean(aps)\n",
        "        test_loss = np.mean(losses)\n",
        "        if print_total:\n",
        "            print('mAP: {0:.4f}'.format(mAP))\n",
        "            print('Avg loss: {}'.format(test_loss))\n",
        "        \n",
        "    return mAP, test_loss, aps"
      ],
      "execution_count": 6,
      "outputs": []
    },
    {
      "cell_type": "code",
      "metadata": {
        "id": "bb5_88P00usL"
      },
      "source": [
        "def plot_losses(train, val, test_frequency, num_epochs):\n",
        "    plt.plot(train, label=\"train\")\n",
        "    indices = [i for i in range(num_epochs) if ((i+1)%test_frequency == 0 or i ==0)]\n",
        "    plt.plot(indices, val, label=\"val\")\n",
        "    plt.title(\"Loss Plot\")\n",
        "    plt.ylabel(\"Loss\")\n",
        "    plt.xlabel(\"Epoch\")\n",
        "    plt.legend()\n",
        "    plt.show()\n",
        "    \n",
        "def plot_mAP(train, val, test_frequency, num_epochs):\n",
        "    indices = [i for i in range(num_epochs) if ((i+1)%test_frequency == 0 or i ==0)]\n",
        "    plt.plot(indices, train, label=\"train\")\n",
        "    plt.plot(indices, val, label=\"val\")\n",
        "    plt.title(\"mAP Plot\")\n",
        "    plt.ylabel(\"mAP\")\n",
        "    plt.xlabel(\"Epoch\")\n",
        "    plt.legend()\n",
        "    plt.show()\n",
        "    "
      ],
      "execution_count": 7,
      "outputs": []
    },
    {
      "cell_type": "code",
      "metadata": {
        "id": "zgVZKCQ90usM"
      },
      "source": [
        "\n",
        "def train(classifier, num_epochs, train_loader, val_loader, criterion, optimizer, test_frequency=5):\n",
        "    train_losses = []\n",
        "    train_mAPs = []\n",
        "    val_losses = []\n",
        "    val_mAPs = []\n",
        "\n",
        "    for epoch in range(1,num_epochs+1):\n",
        "        print(\"Starting epoch number \" + str(epoch))\n",
        "        train_loss = train_classifier(train_loader, classifier, criterion, optimizer)\n",
        "        train_losses.append(train_loss)\n",
        "        print(\"Loss for Training on Epoch \" +str(epoch) + \" is \"+ str(train_loss))\n",
        "        if(epoch%test_frequency==0 or epoch==1):\n",
        "            mAP_train, _, _ = test_classifier(train_loader, classifier, criterion, False, False)\n",
        "            train_mAPs.append(mAP_train)\n",
        "            mAP_val, val_loss, _ = test_classifier(val_loader, classifier, criterion)\n",
        "            print('Evaluating classifier')\n",
        "            print(\"Mean Precision Score for Testing on Epoch \" +str(epoch) + \" is \"+ str(mAP_val))\n",
        "            val_losses.append(val_loss)\n",
        "            val_mAPs.append(mAP_val)\n",
        "    \n",
        "    return classifier, train_losses, val_losses, train_mAPs, val_mAPs"
      ],
      "execution_count": 8,
      "outputs": []
    },
    {
      "cell_type": "markdown",
      "metadata": {
        "id": "wlCDk7su0usO"
      },
      "source": [
        "# Developing Your Own Model"
      ]
    },
    {
      "cell_type": "markdown",
      "metadata": {
        "id": "9h3nPAl20usP"
      },
      "source": [
        "### Goal\n",
        "To meet the benchmark for this assignment you will need to improve the network. Note you should have noticed pretrained Alenxt performs really well, but training Alexnet from scratch performs much worse. We hope you can design a better architecture over both the simple classifier and AlexNet to train from scratch.\n",
        "\n",
        "### How to start\n",
        "You may take inspiration from other published architectures and architectures discussed in lecture. However, you are NOT allowed to use predefined models (e.g. models from torchvision) or use pretrained weights. Training must be done from scratch with your own custom model.\n",
        "\n",
        "#### Some hints\n",
        "There are a variety of different approaches you should try to improve performance from the simple classifier:\n",
        "\n",
        "* Network architecture changes\n",
        "    * Number of layers: try adding layers to make your network deeper\n",
        "    * Batch normalization: adding batch norm between layers will likely give you a significant performance increase\n",
        "    * Residual connections: as you increase the depth of your network, you will find that having residual connections like those in ResNet architectures will be helpful\n",
        "* Optimizer: Instead of plain SGD, you may want to add a learning rate schedule, add momentum, or use one of the other optimizers you have learned about like Adam. Check the `torch.optim` package for other optimizers\n",
        "* Data augmentation: You should use the `torchvision.transforms` module to try adding random resized crops and horizontal flips of the input data. Check `transforms.RandomResizedCrop` and `transforms.RandomHorizontalFlip` for this. Feel free to apply more [transforms](https://pytorch.org/docs/stable/torchvision/transforms.html) for data augmentation which can lead to better performance. \n",
        "* Epochs: Once you have found a generally good hyperparameter setting try training for more epochs\n",
        "* Loss function: You might want to add weighting to the `MultiLabelSoftMarginLoss` for classes that are less well represented or experiment with a different loss function\n",
        "\n",
        "\n",
        "\n",
        "#### Note\n",
        "We will soon be providing some initial expectations of mAP values as a function of epoch so you can get an early idea whether your implementation works without waiting a long time for training to converge.\n",
        "\n",
        "### What to submit \n",
        "Submit your best model and save all plots for the writeup.\n"
      ]
    },
    {
      "cell_type": "code",
      "metadata": {
        "id": "-iPJ_YB50usR",
        "colab": {
          "base_uri": "https://localhost:8080/"
        },
        "outputId": "7373f127-2cc8-4d6b-c5f8-803a47937f49"
      },
      "source": [
        "device = torch.device(\"cuda:0\" if torch.cuda.is_available() else \"cpu\")\n",
        "\n",
        "normalize = transforms.Normalize(mean=[0.485, 0.456, 0.406],\n",
        "                                     std= [0.229, 0.224, 0.225])\n",
        "\n",
        "train_transform = transforms.Compose([\n",
        "            transforms.Resize(227),\n",
        "            transforms.CenterCrop(227),\n",
        "            transforms.ToTensor(),\n",
        "            normalize\n",
        "        ])\n",
        "\n",
        "test_transform = transforms.Compose([\n",
        "            transforms.Resize(227),\n",
        "            transforms.CenterCrop(227),\n",
        "            transforms.ToTensor(),\n",
        "            normalize,\n",
        "        ])\n",
        "\n",
        "ds_train = VocDataset('VOCdevkit/VOC2007/','train',train_transform)\n",
        "ds_val = VocDataset('VOCdevkit/VOC2007/','val',test_transform)\n",
        "ds_test = VocDataset('VOCdevkit/VOC2007test/','test', test_transform)\n"
      ],
      "execution_count": 10,
      "outputs": [
        {
          "output_type": "stream",
          "text": [
            "/content/drive/My Drive/DL/assignment1-part3/assignment1-part3/voc_dataloader.py:109: VisibleDeprecationWarning: Creating an ndarray from ragged nested sequences (which is a list-or-tuple of lists-or-tuples-or ndarrays with different lengths or shapes) is deprecated. If you meant to do this, you must specify 'dtype=object' when creating the ndarray\n",
            "  return np.array(names), np.array(labels).astype(np.float32), np.array(box_indices), label_order\n"
          ],
          "name": "stderr"
        }
      ]
    },
    {
      "cell_type": "code",
      "metadata": {
        "id": "DxXL7sXu0usT"
      },
      "source": [
        "num_epochs = 100\n",
        "test_frequency = 5\n",
        "batch_size = 64\n",
        "\n",
        "train_loader = torch.utils.data.DataLoader(dataset=ds_train,\n",
        "                                               batch_size=batch_size, \n",
        "                                               shuffle=True,\n",
        "                                               num_workers=1)\n",
        "\n",
        "val_loader = torch.utils.data.DataLoader(dataset=ds_val,\n",
        "                                               batch_size=batch_size, \n",
        "                                               shuffle=True,\n",
        "                                               num_workers=1)\n",
        "\n",
        "test_loader = torch.utils.data.DataLoader(dataset=ds_test,\n",
        "                                               batch_size=batch_size, \n",
        "                                               shuffle=False,\n",
        "                                               num_workers=1)"
      ],
      "execution_count": 11,
      "outputs": []
    },
    {
      "cell_type": "code",
      "metadata": {
        "colab": {
          "base_uri": "https://localhost:8080/"
        },
        "id": "yKi1UH3v8aQZ",
        "outputId": "84973e3e-8fc1-4c7b-bb1b-34966505ff2d"
      },
      "source": [
        "c = SimpleClassifier()\r\n",
        "c.parameters()"
      ],
      "execution_count": 55,
      "outputs": [
        {
          "output_type": "stream",
          "text": [
            "[autoreload of classifier failed: Traceback (most recent call last):\n",
            "  File \"/usr/local/lib/python3.7/dist-packages/IPython/extensions/autoreload.py\", line 247, in check\n",
            "    superreload(m, reload, self.old_objects)\n",
            "ValueError: __init__() requires a code object with 1 free vars, not 0\n",
            "]\n"
          ],
          "name": "stderr"
        },
        {
          "output_type": "execute_result",
          "data": {
            "text/plain": [
              "<generator object Module.parameters at 0x7f95e673e950>"
            ]
          },
          "metadata": {
            "tags": []
          },
          "execution_count": 55
        }
      ]
    },
    {
      "cell_type": "code",
      "metadata": {
        "colab": {
          "base_uri": "https://localhost:8080/"
        },
        "id": "76DbNDIaIeUa",
        "outputId": "55921dd9-2079-47f9-bef5-db574ff64604"
      },
      "source": [
        "cl = Classifier()\r\n",
        "cl.parameters()"
      ],
      "execution_count": 56,
      "outputs": [
        {
          "output_type": "execute_result",
          "data": {
            "text/plain": [
              "<generator object Module.parameters at 0x7f95e673e4d0>"
            ]
          },
          "metadata": {
            "tags": []
          },
          "execution_count": 56
        }
      ]
    },
    {
      "cell_type": "code",
      "metadata": {
        "id": "K53nQVhk0usV",
        "colab": {
          "base_uri": "https://localhost:8080/",
          "height": 404
        },
        "outputId": "12f5854f-4702-4f05-fae1-2918be36d278"
      },
      "source": [
        "# TODO: Run your own classifier here\n",
        "c = Classifier()\n",
        "\n",
        "criterion = nn.MultiLabelSoftMarginLoss()\n",
        "\n",
        "# optimizer = torch.optim.SGD(classifier.parameters(), lr=0.01, momentum=0.9)\n",
        "optimizer = torch.optim.Adam(c.parameters(), lr=1e-4)\n",
        "\n",
        "classifier, train_losses, val_losses, train_mAPs, val_mAPs = train(c, num_epochs, train_loader, val_loader, criterion, optimizer, test_frequency)\n"
      ],
      "execution_count": 60,
      "outputs": [
        {
          "output_type": "error",
          "ename": "ValueError",
          "evalue": "ignored",
          "traceback": [
            "\u001b[0;31m---------------------------------------------------------------------------\u001b[0m",
            "\u001b[0;31mValueError\u001b[0m                                Traceback (most recent call last)",
            "\u001b[0;32m<ipython-input-60-7b8d18f8e118>\u001b[0m in \u001b[0;36m<module>\u001b[0;34m()\u001b[0m\n\u001b[1;32m      5\u001b[0m \u001b[0;34m\u001b[0m\u001b[0m\n\u001b[1;32m      6\u001b[0m \u001b[0;31m# optimizer = torch.optim.SGD(classifier.parameters(), lr=0.01, momentum=0.9)\u001b[0m\u001b[0;34m\u001b[0m\u001b[0;34m\u001b[0m\u001b[0;34m\u001b[0m\u001b[0m\n\u001b[0;32m----> 7\u001b[0;31m \u001b[0moptimizer\u001b[0m \u001b[0;34m=\u001b[0m \u001b[0mtorch\u001b[0m\u001b[0;34m.\u001b[0m\u001b[0moptim\u001b[0m\u001b[0;34m.\u001b[0m\u001b[0mAdam\u001b[0m\u001b[0;34m(\u001b[0m\u001b[0mc\u001b[0m\u001b[0;34m.\u001b[0m\u001b[0mparameters\u001b[0m\u001b[0;34m(\u001b[0m\u001b[0;34m)\u001b[0m\u001b[0;34m,\u001b[0m \u001b[0mlr\u001b[0m\u001b[0;34m=\u001b[0m\u001b[0;36m1e-4\u001b[0m\u001b[0;34m)\u001b[0m\u001b[0;34m\u001b[0m\u001b[0;34m\u001b[0m\u001b[0m\n\u001b[0m\u001b[1;32m      8\u001b[0m \u001b[0;34m\u001b[0m\u001b[0m\n\u001b[1;32m      9\u001b[0m \u001b[0mclassifier\u001b[0m\u001b[0;34m,\u001b[0m \u001b[0mtrain_losses\u001b[0m\u001b[0;34m,\u001b[0m \u001b[0mval_losses\u001b[0m\u001b[0;34m,\u001b[0m \u001b[0mtrain_mAPs\u001b[0m\u001b[0;34m,\u001b[0m \u001b[0mval_mAPs\u001b[0m \u001b[0;34m=\u001b[0m \u001b[0mtrain\u001b[0m\u001b[0;34m(\u001b[0m\u001b[0mc\u001b[0m\u001b[0;34m,\u001b[0m \u001b[0mnum_epochs\u001b[0m\u001b[0;34m,\u001b[0m \u001b[0mtrain_loader\u001b[0m\u001b[0;34m,\u001b[0m \u001b[0mval_loader\u001b[0m\u001b[0;34m,\u001b[0m \u001b[0mcriterion\u001b[0m\u001b[0;34m,\u001b[0m \u001b[0moptimizer\u001b[0m\u001b[0;34m,\u001b[0m \u001b[0mtest_frequency\u001b[0m\u001b[0;34m)\u001b[0m\u001b[0;34m\u001b[0m\u001b[0;34m\u001b[0m\u001b[0m\n",
            "\u001b[0;32m/usr/local/lib/python3.7/dist-packages/torch/optim/adam.py\u001b[0m in \u001b[0;36m__init__\u001b[0;34m(self, params, lr, betas, eps, weight_decay, amsgrad)\u001b[0m\n\u001b[1;32m     42\u001b[0m         defaults = dict(lr=lr, betas=betas, eps=eps,\n\u001b[1;32m     43\u001b[0m                         weight_decay=weight_decay, amsgrad=amsgrad)\n\u001b[0;32m---> 44\u001b[0;31m         \u001b[0msuper\u001b[0m\u001b[0;34m(\u001b[0m\u001b[0mAdam\u001b[0m\u001b[0;34m,\u001b[0m \u001b[0mself\u001b[0m\u001b[0;34m)\u001b[0m\u001b[0;34m.\u001b[0m\u001b[0m__init__\u001b[0m\u001b[0;34m(\u001b[0m\u001b[0mparams\u001b[0m\u001b[0;34m,\u001b[0m \u001b[0mdefaults\u001b[0m\u001b[0;34m)\u001b[0m\u001b[0;34m\u001b[0m\u001b[0;34m\u001b[0m\u001b[0m\n\u001b[0m\u001b[1;32m     45\u001b[0m \u001b[0;34m\u001b[0m\u001b[0m\n\u001b[1;32m     46\u001b[0m     \u001b[0;32mdef\u001b[0m \u001b[0m__setstate__\u001b[0m\u001b[0;34m(\u001b[0m\u001b[0mself\u001b[0m\u001b[0;34m,\u001b[0m \u001b[0mstate\u001b[0m\u001b[0;34m)\u001b[0m\u001b[0;34m:\u001b[0m\u001b[0;34m\u001b[0m\u001b[0;34m\u001b[0m\u001b[0m\n",
            "\u001b[0;32m/usr/local/lib/python3.7/dist-packages/torch/optim/optimizer.py\u001b[0m in \u001b[0;36m__init__\u001b[0;34m(self, params, defaults)\u001b[0m\n\u001b[1;32m     44\u001b[0m         \u001b[0mparam_groups\u001b[0m \u001b[0;34m=\u001b[0m \u001b[0mlist\u001b[0m\u001b[0;34m(\u001b[0m\u001b[0mparams\u001b[0m\u001b[0;34m)\u001b[0m\u001b[0;34m\u001b[0m\u001b[0;34m\u001b[0m\u001b[0m\n\u001b[1;32m     45\u001b[0m         \u001b[0;32mif\u001b[0m \u001b[0mlen\u001b[0m\u001b[0;34m(\u001b[0m\u001b[0mparam_groups\u001b[0m\u001b[0;34m)\u001b[0m \u001b[0;34m==\u001b[0m \u001b[0;36m0\u001b[0m\u001b[0;34m:\u001b[0m\u001b[0;34m\u001b[0m\u001b[0;34m\u001b[0m\u001b[0m\n\u001b[0;32m---> 46\u001b[0;31m             \u001b[0;32mraise\u001b[0m \u001b[0mValueError\u001b[0m\u001b[0;34m(\u001b[0m\u001b[0;34m\"optimizer got an empty parameter list\"\u001b[0m\u001b[0;34m)\u001b[0m\u001b[0;34m\u001b[0m\u001b[0;34m\u001b[0m\u001b[0m\n\u001b[0m\u001b[1;32m     47\u001b[0m         \u001b[0;32mif\u001b[0m \u001b[0;32mnot\u001b[0m \u001b[0misinstance\u001b[0m\u001b[0;34m(\u001b[0m\u001b[0mparam_groups\u001b[0m\u001b[0;34m[\u001b[0m\u001b[0;36m0\u001b[0m\u001b[0;34m]\u001b[0m\u001b[0;34m,\u001b[0m \u001b[0mdict\u001b[0m\u001b[0;34m)\u001b[0m\u001b[0;34m:\u001b[0m\u001b[0;34m\u001b[0m\u001b[0;34m\u001b[0m\u001b[0m\n\u001b[1;32m     48\u001b[0m             \u001b[0mparam_groups\u001b[0m \u001b[0;34m=\u001b[0m \u001b[0;34m[\u001b[0m\u001b[0;34m{\u001b[0m\u001b[0;34m'params'\u001b[0m\u001b[0;34m:\u001b[0m \u001b[0mparam_groups\u001b[0m\u001b[0;34m}\u001b[0m\u001b[0;34m]\u001b[0m\u001b[0;34m\u001b[0m\u001b[0;34m\u001b[0m\u001b[0m\n",
            "\u001b[0;31mValueError\u001b[0m: optimizer got an empty parameter list"
          ]
        }
      ]
    },
    {
      "cell_type": "code",
      "metadata": {
        "id": "G8PBQwn30usW"
      },
      "source": [
        "plot_losses(train_losses, val_losses, test_frequency, num_epochs)\n",
        "plot_mAP(train_mAPs, val_mAPs, test_frequency, num_epochs)"
      ],
      "execution_count": null,
      "outputs": []
    },
    {
      "cell_type": "code",
      "metadata": {
        "id": "RNH-fgBf0usY"
      },
      "source": [
        "mAP_test, test_loss, test_aps = test_classifier(test_loader, classifier, criterion)\n",
        "print(mAP_test)"
      ],
      "execution_count": null,
      "outputs": []
    },
    {
      "cell_type": "code",
      "metadata": {
        "id": "ohPDOo080usY"
      },
      "source": [
        "torch.save(classifier.state_dict(), './voc_my_best_classifier.pth')\n",
        "output_submission_csv('my_solution.csv', test_aps)"
      ],
      "execution_count": null,
      "outputs": []
    },
    {
      "cell_type": "code",
      "metadata": {
        "id": "Io4tZice0usZ"
      },
      "source": [
        ""
      ],
      "execution_count": null,
      "outputs": []
    }
  ]
}